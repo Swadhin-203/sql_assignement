{
 "cells": [
  {
   "cell_type": "markdown",
   "id": "91991b22",
   "metadata": {},
   "source": [
    "Q1. What is a database? Differentiate between SQL and NoSQL databases.\n",
    "Ans:Database is a repository of data.It is a shared collection of intereled data and metadata designed to meet the varried information needs of an organizations.\n",
    "SQL:-\n",
    "1.It is a relational database management system.\n",
    "2.The databases are fixed or predefined schema.\n",
    "3.These databases are suitable for complex quaries.\n",
    "4.It is vertically scalable.\n",
    "5.Exp-MySQL\n",
    "\n",
    "NoSQL:-\n",
    "1.It is a non-relational or distributed database system.\n",
    "2.They have dynamic schema.\n",
    "3.These databases are not suitable for the complex quaries.\n",
    "4.It is Horizontaly scalable.\n",
    "5.Exp-MongoDB"
   ]
  },
  {
   "cell_type": "markdown",
   "id": "63ec9d7e",
   "metadata": {},
   "source": [
    "Q2. What is DDL? Explain why CREATE, DROP, ALTER, and TRUNCATE are used with an example.\n",
    "Ans:DDL stands for Data Defination Language.\n",
    "\n",
    "1.Create:Create table used to create a new table.On of the simples forms of this command is where the basic information for each column is defined, together with their dtatypes ans sizes.\n",
    "\n",
    "2.Drop:The DROP Command drops the complete table from the database.\n",
    "\n",
    "3.ALTER:The ALTER TABLE statement is used to add, delete, or modify columns in an existing table.\n",
    "\n",
    "4.Truncate:TRUNCATE TABLE removes all rows from a table, but the table structure and its columns, constraints, indexes, and so on remain."
   ]
  },
  {
   "cell_type": "markdown",
   "id": "bebf0af8",
   "metadata": {},
   "source": [
    "Q3.What is DML? Explain INSERT, UPDATE, and DELETE with an example.\n",
    "Ans:DML stands for Data Manipulation Language.\n",
    "1.Insert:Insert command is used to insert the values in a table.\n",
    "2.Update:An SQL UPDATE statement changes the data of one or more records in a table. Either all the rows can be updated, or a subset may be chosen using a condition. The UPDATE statement has the following form: UPDATE table_name SET column_name = value [, column_name = value ...]\n",
    "3.Delete:Delete command is a data manipulation command which is used to remove records from a table. All records may be removed in one go, or a set of records may be deleted based on a condition."
   ]
  },
  {
   "cell_type": "markdown",
   "id": "d183a1d4",
   "metadata": {},
   "source": [
    "Q4. What is DQL? Explain SELECT with an example.\n",
    "Ans:DQL stands for Data Query Language.Select is a command which is used to retrive the data from the database.For example if we want to retrive all the column from the data base then we can use \"select * from [table_name]\""
   ]
  },
  {
   "cell_type": "markdown",
   "id": "55c5746c",
   "metadata": {},
   "source": [
    "Q5. Explain Primary Key and Foreign Key.\n",
    "Ans:Primary Key:Primary is a candidate key which is used to uniquely identify a column or a set of column.. Primary keys must contain UNIQUE values, and cannot contain NULL values. A table can have only ONE primary key; and in the table, this primary key can consist of single or multiple columns (fields).\n",
    "Foreign Key:Foreign key is a candidate key which is used as a reference between two or more table.A FOREIGN KEY is a field (or collection of fields) in one table, that refers to the PRIMARY KEY in another table. The table with the foreign key is called the child table, and the table with the primary key is called the referenced or parent table."
   ]
  },
  {
   "cell_type": "markdown",
   "id": "2b59b247",
   "metadata": {},
   "source": [
    "Q6. Write a python code to connect MySQL to python. Explain the cursor() and execute() method.\n",
    "Ans:\n",
    "python code to connect MySQL\n",
    "\n",
    "import mysql.connector\n",
    "mydb=mysql.connceter.connect(\n",
    "host=\"localhost\",\n",
    "user=\"abc\"\n",
    "password=\"password\"\n",
    ")\n",
    "print(mydb)\n",
    "mycursor=mydb.cursor()\n",
    "mycursor.execute(\"CREATE DATABASE\")\n",
    "mydb.close()\n",
    "\n",
    "Cursor():-Cursor class is an instance using which you can invoke methods that execute SQLite statements, fetch data from the result sets of the queries. You can create Cursor object using the cursor() method of the Connection object/class.\n",
    "\n",
    "execute():-execute() function is used for the dynamic execution of Python programs which can either be a string or object code. If it is a string, the string is parsed as a suite of Python statements which is then executed unless a syntax error occurs and if it is an object code, it is simply executed."
   ]
  },
  {
   "cell_type": "markdown",
   "id": "9bcf60ea",
   "metadata": {},
   "source": [
    "Q7-Give the order of execution of SQL clauses in an SQL query.\n",
    "Ans:Order of Execution\n",
    "FROM/JOIN: The FROM and/or JOIN clauses are executed first to determine the data of interest.\n",
    "WHERE: The WHERE clause is executed to filter out records that do not meet the constraints.\n",
    "GROUP BY: The GROUP BY clause is executed to group the data based on the values in one or more columns."
   ]
  },
  {
   "cell_type": "code",
   "execution_count": null,
   "id": "1514525f",
   "metadata": {},
   "outputs": [],
   "source": []
  }
 ],
 "metadata": {
  "kernelspec": {
   "display_name": "Python 3 (ipykernel)",
   "language": "python",
   "name": "python3"
  },
  "language_info": {
   "codemirror_mode": {
    "name": "ipython",
    "version": 3
   },
   "file_extension": ".py",
   "mimetype": "text/x-python",
   "name": "python",
   "nbconvert_exporter": "python",
   "pygments_lexer": "ipython3",
   "version": "3.10.5"
  }
 },
 "nbformat": 4,
 "nbformat_minor": 5
}
